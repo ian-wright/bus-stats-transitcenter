{
 "cells": [
  {
   "cell_type": "code",
   "execution_count": 1,
   "metadata": {
    "collapsed": true
   },
   "outputs": [],
   "source": [
    "import pandas as pd\n",
    "import datetime as dt"
   ]
  },
  {
   "cell_type": "code",
   "execution_count": 11,
   "metadata": {
    "collapsed": false
   },
   "outputs": [],
   "source": [
    "j = pd.read_csv(\"m4_j.csv\", parse_dates=[7])"
   ]
  },
  {
   "cell_type": "code",
   "execution_count": 12,
   "metadata": {
    "collapsed": false
   },
   "outputs": [
    {
     "data": {
      "text/html": [
       "<div>\n",
       "<style>\n",
       "    .dataframe thead tr:only-child th {\n",
       "        text-align: right;\n",
       "    }\n",
       "\n",
       "    .dataframe thead th {\n",
       "        text-align: left;\n",
       "    }\n",
       "\n",
       "    .dataframe tbody tr th {\n",
       "        vertical-align: top;\n",
       "    }\n",
       "</style>\n",
       "<table border=\"1\" class=\"dataframe\">\n",
       "  <thead>\n",
       "    <tr style=\"text-align: right;\">\n",
       "      <th></th>\n",
       "      <th>rds_index</th>\n",
       "      <th>hourbin</th>\n",
       "      <th>awt</th>\n",
       "      <th>swt</th>\n",
       "      <th>ewt_95</th>\n",
       "      <th>count</th>\n",
       "      <th>daybin</th>\n",
       "      <th>date</th>\n",
       "      <th>s_trip</th>\n",
       "      <th>m_trip</th>\n",
       "      <th>trip_95</th>\n",
       "      <th>speed</th>\n",
       "    </tr>\n",
       "  </thead>\n",
       "  <tbody>\n",
       "    <tr>\n",
       "      <th>0</th>\n",
       "      <td>M4_0_400026</td>\n",
       "      <td>0</td>\n",
       "      <td>6.79</td>\n",
       "      <td>4.88</td>\n",
       "      <td>4.53</td>\n",
       "      <td>45</td>\n",
       "      <td>1</td>\n",
       "      <td>2015-10-01</td>\n",
       "      <td>1.33</td>\n",
       "      <td>2.01</td>\n",
       "      <td>3.85</td>\n",
       "      <td>2.705</td>\n",
       "    </tr>\n",
       "    <tr>\n",
       "      <th>1</th>\n",
       "      <td>M4_0_400028</td>\n",
       "      <td>0</td>\n",
       "      <td>6.54</td>\n",
       "      <td>4.72</td>\n",
       "      <td>5.19</td>\n",
       "      <td>54</td>\n",
       "      <td>1</td>\n",
       "      <td>2015-10-01</td>\n",
       "      <td>1.11</td>\n",
       "      <td>1.09</td>\n",
       "      <td>2.3</td>\n",
       "      <td>9.9225</td>\n",
       "    </tr>\n",
       "    <tr>\n",
       "      <th>2</th>\n",
       "      <td>M4_0_400029</td>\n",
       "      <td>0</td>\n",
       "      <td>6.79</td>\n",
       "      <td>4.72</td>\n",
       "      <td>5.21</td>\n",
       "      <td>51</td>\n",
       "      <td>1</td>\n",
       "      <td>2015-10-01</td>\n",
       "      <td>1.1</td>\n",
       "      <td>1.46</td>\n",
       "      <td>3.78</td>\n",
       "      <td>9.9775</td>\n",
       "    </tr>\n",
       "    <tr>\n",
       "      <th>3</th>\n",
       "      <td>M4_0_400030</td>\n",
       "      <td>0</td>\n",
       "      <td>6.96</td>\n",
       "      <td>4.67</td>\n",
       "      <td>5.56</td>\n",
       "      <td>52</td>\n",
       "      <td>1</td>\n",
       "      <td>2015-10-01</td>\n",
       "      <td>1.71</td>\n",
       "      <td>1.46</td>\n",
       "      <td>3.75</td>\n",
       "      <td>14.37</td>\n",
       "    </tr>\n",
       "    <tr>\n",
       "      <th>4</th>\n",
       "      <td>M4_0_400032</td>\n",
       "      <td>0</td>\n",
       "      <td>6.83</td>\n",
       "      <td>4.67</td>\n",
       "      <td>5.96</td>\n",
       "      <td>52</td>\n",
       "      <td>1</td>\n",
       "      <td>2015-10-01</td>\n",
       "      <td>1.27</td>\n",
       "      <td>1.62</td>\n",
       "      <td>2.58</td>\n",
       "      <td>6.0875</td>\n",
       "    </tr>\n",
       "  </tbody>\n",
       "</table>\n",
       "</div>"
      ],
      "text/plain": [
       "     rds_index  hourbin   awt   swt ewt_95 count  daybin       date s_trip  \\\n",
       "0  M4_0_400026        0  6.79  4.88   4.53    45       1 2015-10-01   1.33   \n",
       "1  M4_0_400028        0  6.54  4.72   5.19    54       1 2015-10-01   1.11   \n",
       "2  M4_0_400029        0  6.79  4.72   5.21    51       1 2015-10-01    1.1   \n",
       "3  M4_0_400030        0  6.96  4.67   5.56    52       1 2015-10-01   1.71   \n",
       "4  M4_0_400032        0  6.83  4.67   5.96    52       1 2015-10-01   1.27   \n",
       "\n",
       "  m_trip trip_95   speed  \n",
       "0   2.01    3.85   2.705  \n",
       "1   1.09     2.3  9.9225  \n",
       "2   1.46    3.78  9.9775  \n",
       "3   1.46    3.75   14.37  \n",
       "4   1.62    2.58  6.0875  "
      ]
     },
     "execution_count": 12,
     "metadata": {},
     "output_type": "execute_result"
    }
   ],
   "source": [
    "j.head()"
   ]
  },
  {
   "cell_type": "code",
   "execution_count": 20,
   "metadata": {
    "collapsed": false
   },
   "outputs": [],
   "source": [
    "j_=j[j.date < dt.datetime.strptime('2015-10-10', '%Y-%m-%d')]"
   ]
  },
  {
   "cell_type": "code",
   "execution_count": 21,
   "metadata": {
    "collapsed": true
   },
   "outputs": [],
   "source": [
    "j_.to_csv(\"m4_j_.csv\", index=False)"
   ]
  },
  {
   "cell_type": "code",
   "execution_count": 24,
   "metadata": {
    "collapsed": true
   },
   "outputs": [],
   "source": [
    "r = pd.read_csv(\"m4_r.csv\", parse_dates=[5])"
   ]
  },
  {
   "cell_type": "code",
   "execution_count": 26,
   "metadata": {
    "collapsed": false
   },
   "outputs": [],
   "source": [
    "r_=r[r.date < dt.datetime.strptime('2015-10-10', '%Y-%m-%d')]"
   ]
  },
  {
   "cell_type": "code",
   "execution_count": 28,
   "metadata": {
    "collapsed": false
   },
   "outputs": [],
   "source": [
    "r_.to_csv(\"m4_r_.csv\", index=False)"
   ]
  },
  {
   "cell_type": "code",
   "execution_count": null,
   "metadata": {
    "collapsed": true
   },
   "outputs": [],
   "source": []
  }
 ],
 "metadata": {
  "anaconda-cloud": {},
  "kernelspec": {
   "display_name": "Python [conda root]",
   "language": "python",
   "name": "conda-root-py"
  },
  "language_info": {
   "codemirror_mode": {
    "name": "ipython",
    "version": 2
   },
   "file_extension": ".py",
   "mimetype": "text/x-python",
   "name": "python",
   "nbconvert_exporter": "python",
   "pygments_lexer": "ipython2",
   "version": "2.7.12"
  }
 },
 "nbformat": 4,
 "nbformat_minor": 1
}
